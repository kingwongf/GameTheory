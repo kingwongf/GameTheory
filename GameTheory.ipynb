{
 "cells": [
  {
   "cell_type": "markdown",
   "metadata": {},
   "source": [
    "# Game Theory\n",
    "\n",
    "## Problem Statement \n",
    " A game involves a player and the house who play either \"H\" or \"T\" and each round. \n",
    " Player's payoff:\n",
    " - HH = 3,\n",
    " -  HT/TH = -2 and TT = 1\n",
    " <br>\n",
    " \n",
    "Find the optimal strategy for 1. the player 2. the house"
   ]
  },
  {
   "cell_type": "markdown",
   "metadata": {},
   "source": [
    "We write $P_{player}(H) =P_P(H)$ and $P_{house}(H) = P_H(H)$\n"
   ]
  },
  {
   "cell_type": "markdown",
   "metadata": {},
   "source": [
    "To find expected player's wealth, we write\n",
    "<br>\n",
    "\\begin{align*}\n",
    "E(W)_{player} &= P_P(H) P_H(H) (3) + P_P(H) (1 - P_H(H)) (-2) \\\\\n",
    "& + (1- P_P(H))P_H(H) (-2) + (1-P_P(H)) (1 - P_H(H)) \\\\\n",
    "&= 3 P_P(H) P_H(H) -2 P_P(H) +2 P_P(H) P_H(H)  \\\\\n",
    "&-2 P_H(H) +2 P_P(H) P_H(H) \\\\\n",
    "& + 1 - P_H(H) - P_P(H) + P_P(H) P_H(H) \\\\\n",
    "& = 8 P_P(H) P_H(H) -3 (P_P(H) + P_H(H)) +1\n",
    "\\end{align*}"
   ]
  },
  {
   "cell_type": "markdown",
   "metadata": {},
   "source": [
    "### Assuming the player wins most of the time \n",
    "\n",
    "\\begin{align*}\n",
    "    0 &< E(W)_{player} \\\\\n",
    "    0 &< 8 P_P(H) P_H(H) -3 (P_P(H) + P_H(H)) +1 \\\\\n",
    "    3  P_H(H) - 1 & < 8 P_P(H) P_H(H) -3 P_P(H) \\\\\n",
    "    3  P_H(H) - 1 & < P_P(H) (8 P_H(H) - 3) \\\\\n",
    "    P_P(H) &> \\frac{3  P_H(H) - 1 }{8 P_H(H) - 3}\n",
    "\\end{align*}"
   ]
  },
  {
   "cell_type": "markdown",
   "metadata": {},
   "source": [
    "we can change the inequality as an equality. Meaning markers on the line represent $E(W)_{player} = E(W)_{house} = 0$, the equilibrium state:"
   ]
  },
  {
   "cell_type": "code",
   "execution_count": 40,
   "metadata": {},
   "outputs": [
    {
     "name": "stdout",
     "output_type": "stream",
     "text": [
      "\n"
     ]
    },
    {
     "data": {
      "image/png": "[encoded data removed]",
      "text/plain": [
       "<matplotlib.figure.Figure at 0x11fac2978>"
      ]
     },
     "metadata": {},
     "output_type": "display_data"
    }
   ],
   "source": [
    "import numpy as np\n",
    "import matplotlib.pyplot as plt\n",
    "\n",
    "x1 = np.linspace(0,0.3333333333333,1000)\n",
    "x2 = np.linspace(0.40000000001,1,1000)\n",
    "y1 = (3*x1 -1)/ (8*x1 -3)\n",
    "y2 = (3*x2 -1)/ (8*x2 -3)\n",
    "\n",
    "y1 = [y for y in y1 if 0<y and y < 1]\n",
    "y2 = [y for y in y2 if 0<y and y < 1]\n",
    "\n",
    "\n",
    "plt.plot(x1,y1,marker=\".\", linestyle='None')\n",
    "plt.plot(x2,y2,marker=\".\", linestyle='None')\n",
    "plt.xlabel('P_H(H)')\n",
    "plt.ylabel('P_P(H)')\n",
    "plt.ylim((0,1))\n",
    "plt.xlim((0,1))\n",
    "plt.show()"
   ]
  },
  {
   "cell_type": "markdown",
   "metadata": {},
   "source": [
    "The area between the lines represents the house wins where the areas outside the lines represent the player wins. \n",
    "<br>\n",
    "The optimal strategy for the player would be to play \"H\" with a frequency of more than 0.4 when the house plays \"H\" between 0.4 to 1 or with a frequency of less than 1/3 when the house plays \"H\" between 0 to 1/3. "
   ]
  },
  {
   "cell_type": "markdown",
   "metadata": {},
   "source": [
    "We can run simulations of the game to check the player and the house wealth. "
   ]
  },
  {
   "cell_type": "code",
   "execution_count": 6,
   "metadata": {},
   "outputs": [
    {
     "name": "stdout",
     "output_type": "stream",
     "text": [
      "player's wealth  13 house's wealth  -13\n"
     ]
    }
   ],
   "source": [
    "import gametheory\n",
    "A = gametheory.Game(0,1/3,1000) # prob of house's playing \"H\", \n",
    "                                         # prob of player's playing \"H\",\n",
    "                                         # no. of simulations\n",
    "A.main()"
   ]
  },
  {
   "cell_type": "code",
   "execution_count": null,
   "metadata": {},
   "outputs": [],
   "source": []
  }
 ],
 "metadata": {
  "kernelspec": {
   "display_name": "Python 3",
   "language": "python",
   "name": "python3"
  },
  "language_info": {
   "codemirror_mode": {
    "name": "ipython",
    "version": 3
   },
   "file_extension": ".py",
   "mimetype": "text/x-python",
   "name": "python",
   "nbconvert_exporter": "python",
   "pygments_lexer": "ipython3",
   "version": "3.6.4"
  }
 },
 "nbformat": 4,
 "nbformat_minor": 2
}
